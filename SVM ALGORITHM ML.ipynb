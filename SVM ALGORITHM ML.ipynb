{
 "cells": [
  {
   "cell_type": "code",
   "execution_count": null,
   "metadata": {},
   "outputs": [],
   "source": [
    "#HERE BEGINS THE ACTUAL AND COMPLETE CODE FOR SVM..."
   ]
  },
  {
   "cell_type": "code",
   "execution_count": 23,
   "metadata": {},
   "outputs": [],
   "source": [
    "#IMPORT AND LOAD ALL THE REQUIRED LIBRARIES\n",
    "import numpy as np\n",
    "import pandas as pd\n",
    "import re\n",
    "import nltk\n",
    "import matplotlib.pyplot as plt\n",
    "from nltk.corpus import stopwords\n",
    "from nltk.stem.porter import PorterStemmer\n",
    "from sklearn.feature_extraction.text import TfidfVectorizer\n",
    "from sklearn.model_selection import train_test_split\n",
    "from sklearn.svm import SVC\n",
    "\n",
    "from sklearn.metrics import classification_report"
   ]
  },
  {
   "cell_type": "code",
   "execution_count": 24,
   "metadata": {},
   "outputs": [
    {
     "name": "stdout",
     "output_type": "stream",
     "text": [
      "   ï»¿                                               text        class\n",
      "0    2  Ex Wife Threatening SuicideRecently I left my ...      suicide\n",
      "1    3  Am I weird I don't get affected by compliments...  non-suicide\n",
      "2    4  Finally 2020 is almost over... So I can never ...  non-suicide\n",
      "3    8          i need helpjust help me im crying so hard      suicide\n",
      "4    9  IÃ¢â¬â¢m so lostHello, my name is Adam (16) ...      suicide\n"
     ]
    }
   ],
   "source": [
    "#data preprocessing\n",
    "mh_data=pd.read_csv(r\"C:\\Users\\SUDHIR KUTRE\\Desktop\\FY'22 Project\\ML Datasets\\Samruddhi\\ML Dataset3\\SD2.csv\",encoding='unicode_escape')\n",
    "#printing first five lines\n",
    "print(mh_data.head())"
   ]
  },
  {
   "cell_type": "code",
   "execution_count": 25,
   "metadata": {},
   "outputs": [
    {
     "name": "stdout",
     "output_type": "stream",
     "text": [
      "ï»¿      0\n",
      "text     0\n",
      "class    0\n",
      "dtype: int64\n"
     ]
    }
   ],
   "source": [
    "#checking for missing values\n",
    "print(mh_data.isnull().sum())"
   ]
  },
  {
   "cell_type": "code",
   "execution_count": 26,
   "metadata": {},
   "outputs": [
    {
     "name": "stdout",
     "output_type": "stream",
     "text": [
      "0           suicide\n",
      "1       non-suicide\n",
      "2       non-suicide\n",
      "3           suicide\n",
      "4           suicide\n",
      "           ...     \n",
      "1324    non-suicide\n",
      "1325    non-suicide\n",
      "1326    non-suicide\n",
      "1327    non-suicide\n",
      "1328        suicide\n",
      "Name: class, Length: 1329, dtype: object\n"
     ]
    }
   ],
   "source": [
    "#separating feature and target\n",
    "X=mh_data.drop(columns='class',axis=1)\n",
    "Y=mh_data['class']\n",
    "print(Y)"
   ]
  },
  {
   "cell_type": "code",
   "execution_count": 27,
   "metadata": {},
   "outputs": [
    {
     "name": "stdout",
     "output_type": "stream",
     "text": [
      "0       Ex Wife Threatening SuicideRecently I left my ...\n",
      "1       Am I weird I don't get affected by compliments...\n",
      "2       Finally 2020 is almost over... So I can never ...\n",
      "3               i need helpjust help me im crying so hard\n",
      "4       IÃ¢â¬â¢m so lostHello, my name is Adam (16) ...\n",
      "                              ...                        \n",
      "1324    ughh im so done rn i got high asf and now im d...\n",
      "1325    my pronouns she/bitch\\n\\n\\n\\n\\nfillerfillerfil...\n",
      "1326    IsnÃ¢â¬â¢t porn just weird We are watching o...\n",
      "1327    Anyone else hate it when you know the right an...\n",
      "1328    my life has become a nightmareTnis will be a l...\n",
      "Name: text, Length: 1329, dtype: object\n"
     ]
    }
   ],
   "source": [
    "print(mh_data['text'])"
   ]
  },
  {
   "cell_type": "code",
   "execution_count": 28,
   "metadata": {},
   "outputs": [
    {
     "name": "stdout",
     "output_type": "stream",
     "text": [
      "0       ex wife threatening suiciderecently i left my ...\n",
      "1       am i weird i don t get affected by compliments...\n",
      "2       finally is almost over so i can never hear has...\n",
      "3               i need helpjust help me im crying so hard\n",
      "4       i m so losthello my name is adam and i ve been...\n",
      "                              ...                        \n",
      "1324    ughh im so done rn i got high asf and now im d...\n",
      "1325    my pronouns she bitch fillerfillerfillerfiller...\n",
      "1326    isn t porn just weird we are watching other pe...\n",
      "1327    anyone else hate it when you know the right an...\n",
      "1328    my life has become a nightmaretnis will be a l...\n",
      "Name: text, Length: 1329, dtype: object\n"
     ]
    }
   ],
   "source": [
    "#stemming\n",
    "port_stem=PorterStemmer()\n",
    "def stemming(content):\n",
    "    stemmed_content=re.sub('[^a-zA-Z]',' ',content)\n",
    "    stemmed_content=stemmed_content.lower()\n",
    "    stemmed_content=stemmed_content.split()\n",
    "    #stemmed_content=[port_stem.stem(word) for word in stemmed_content if not word in stopwords.words('english')]\n",
    "    stemmed_content=' '.join(stemmed_content)\n",
    "    return stemmed_content\n",
    "mh_data['text']=mh_data['text'].apply(stemming)\n",
    "print(mh_data['text'])"
   ]
  },
  {
   "cell_type": "code",
   "execution_count": 29,
   "metadata": {},
   "outputs": [
    {
     "name": "stdout",
     "output_type": "stream",
     "text": [
      "['ex wife threatening suiciderecently i left my wife for good because she has cheated on me twice and lied to me so much that i have decided to refuse to go back to her as of a few days ago she began threatening suicide i have tirelessly spent these paat few days talking her out of it and she keeps hesitating because she wants to believe i ll come back i know a lot of people will threaten this in order to get their way but what happens if she really does what do i do and how am i supposed to handle her death on my hands i still love my wife but i cannot deal with getting cheated on again and constantly feeling insecure i m worried today may be the day she does it and i hope so much it doesn t happen'\n",
      " 'am i weird i don t get affected by compliments if it s coming from someone i know irl but i feel really good when internet strangers do it'\n",
      " 'finally is almost over so i can never hear has been a bad year ever again i swear to fucking god it s so annoying'\n",
      " ...\n",
      " 'isn t porn just weird we are watching other people having fun is it just me or does that make no sence'\n",
      " 'anyone else hate it when you know the right answer but you ve answered all the questions so you have to wait minutes for the class to finally answer the question this happens to me so much especially in spanish vlass because i already know like everything weve learned but then i answer a bunch of questions before waiting for minutes cause no one can or no one wants to anseer'\n",
      " 'my life has become a nightmaretnis will be a long read but i m very grateful for those who will read it i m going to start this off by saying i ve never been a happy person i ve always seeked solace in philosophy amp drugs i ve done numerous drugs to try and help me lsd shrooms tons of benzos amp opiates mdma but they always only help temporarily i ve been depressed always i can t remember the last time i was happy i can t remember the way i was before it ever came into my life but life somehow started looking up for me i had a well paying job drugs close friends a girlfriend a car and just my freedom i had everything i ve ever wanted in life i wasn t happy but i was content and had a hope for my future until two weeks ago where i made the worst decison of my life that was driving when i was fucked up i was coming home from a day filled with popping pills and smoking with friends amp i made the most selfish stupid decision of driving under various substances i swerved and my wheel came off the road lost traction and pummeled me into a pickup truck i was on the highway going my car got totalled ambulance had to bust the windows in the back because my car flipped to get me out i was fine besides hurting my neck and some major bruises but i admitted in the emergency room that i was messed up amp under various drugs i got arrested and charged for wreckless driving dui amp plenty of drug charges they found in my car after i m failing all my classes i ve always had a great gpa a really good act score to get me into a decent college with a nice scholarship but ive ruined that future besides losing my future friends job car money freedom amp my reputation i put two other people in the hospital one of them is a father has kids amp he s been in the hospital since he has a broken neck amp in a lot of pain i couldn t imagine what i would do to some fucker who almost killed my mom because of their dumbass decisions ive been living with the guilt since that i almost killed another person almost made some kids live without their father i m the lowest person and i honestly feel like i don t deserve to live i wish i never wore my searbelt that i was killed in the crash i truly deserve it insurance isn t going to cover any medical bills i put myself and my mom in thousands of dollars in debt we cant afford that she works as a single mother supporting three kids as a fast food manager besides contemplating suicide daily because of living with this guilt amd regret that eats me up ive lost everything i ve become a disgrace to my family to society my brother tells me daily how i should ve died amp how much of a piece of shit i am my dad was a drug addict who left our family at the age of and my mom amp brother tell me how i m far worse than him it hurts so fucking much all of this does i can t bear this emotional pain i never meant to hurt anyone in my entire life ive always been so nice and caring to others because i know life is hard amp i only wish to bring good to others but i ve fucked my life up beyond repair i don t see a way out of this i don t want one i just wish i had the fucking balls to end this guilt and misery i feel all the fucking time i can t keep living i don t deserve to the only person who has a little faith in me is my girlfriend i love this girl to death she s the most amazing person i ve ever met shes the only one who has faith in me amp support me but i can t even see her with no car i don t have a phone to talk to her i m probably going to lose her too i hate that i m making people suffer because of my decisons these poor people i almost killed my family my girlfriend my friends i ve truly lost everything i hope so much that i just can end it all to stop feeling this misery to never have to see another day hopefully one day i will thank you for reading']\n",
      "['suicide' 'non-suicide' 'non-suicide' ... 'non-suicide' 'non-suicide'\n",
      " 'suicide']\n"
     ]
    }
   ],
   "source": [
    "#X has features and Y has labes\n",
    "X=mh_data['text'].values\n",
    "Y=mh_data['class'].values\n",
    "print(X)\n",
    "print(Y)"
   ]
  },
  {
   "cell_type": "code",
   "execution_count": 30,
   "metadata": {},
   "outputs": [
    {
     "name": "stdout",
     "output_type": "stream",
     "text": [
      "  (0, 10008)\t0.09742563964902516\n",
      "  (0, 9961)\t0.03868831960012616\n",
      "  (0, 9926)\t0.04995739043695787\n",
      "  (0, 9919)\t0.3152952977252408\n",
      "  (0, 9870)\t0.08526003063197789\n",
      "  (0, 9804)\t0.05807546121914685\n",
      "  (0, 9769)\t0.08100954838462482\n",
      "  (0, 9340)\t0.09654532112162142\n",
      "  (0, 9125)\t0.06770452779464507\n",
      "  (0, 9121)\t0.1766168771706271\n",
      "  (0, 9106)\t0.1419217382747349\n",
      "  (0, 9038)\t0.23643031743674608\n",
      "  (0, 9036)\t0.1419217382747349\n",
      "  (0, 9015)\t0.035258397486000244\n",
      "  (0, 8988)\t0.07031186883503587\n",
      "  (0, 8963)\t0.06476072039751092\n",
      "  (0, 8959)\t0.027507060687732225\n",
      "  (0, 8956)\t0.034368881662785004\n",
      "  (0, 8832)\t0.07886498028849474\n",
      "  (0, 8722)\t0.08722597399274637\n",
      "  (0, 8689)\t0.1419217382747349\n",
      "  (0, 8683)\t0.060731504660877726\n",
      "  (0, 8513)\t0.06060233394937055\n",
      "  (0, 8371)\t0.08722597399274637\n",
      "  (0, 8232)\t0.0703149445121032\n",
      "  :\t:\n",
      "  (1328, 808)\t0.012290980041346036\n",
      "  (1328, 749)\t0.034279821560817866\n",
      "  (1328, 719)\t0.018539052605127546\n",
      "  (1328, 622)\t0.013544896301602003\n",
      "  (1328, 565)\t0.03125222715058362\n",
      "  (1328, 546)\t0.04087758808328129\n",
      "  (1328, 447)\t0.017983229979543623\n",
      "  (1328, 439)\t0.01664977077183273\n",
      "  (1328, 413)\t0.04435845798641238\n",
      "  (1328, 377)\t0.1069312987634744\n",
      "  (1328, 360)\t0.3342148383951967\n",
      "  (1328, 345)\t0.04504031528942115\n",
      "  (1328, 344)\t0.04087758808328129\n",
      "  (1328, 340)\t0.029636394200034714\n",
      "  (1328, 335)\t0.015070043344278063\n",
      "  (1328, 334)\t0.09806097171909982\n",
      "  (1328, 312)\t0.09341912814080267\n",
      "  (1328, 292)\t0.052057711285426155\n",
      "  (1328, 233)\t0.021982308207292432\n",
      "  (1328, 214)\t0.02768205503835445\n",
      "  (1328, 199)\t0.019232770550417923\n",
      "  (1328, 192)\t0.031212034831993175\n",
      "  (1328, 149)\t0.03671486087714143\n",
      "  (1328, 123)\t0.039537489244272896\n",
      "  (1328, 101)\t0.030372688072423246\n"
     ]
    }
   ],
   "source": [
    "#converting textual data to numberical data\n",
    "vectorizer=TfidfVectorizer()\n",
    "vectorizer.fit(X)\n",
    "X=vectorizer.transform(X)\n",
    "print(X)"
   ]
  },
  {
   "cell_type": "code",
   "execution_count": 31,
   "metadata": {},
   "outputs": [
    {
     "data": {
      "text/plain": [
       "array([1, 0])"
      ]
     },
     "execution_count": 31,
     "metadata": {},
     "output_type": "execute_result"
    }
   ],
   "source": [
    "#converting the labels values into numberics\n",
    "from sklearn import preprocessing\n",
    "label_encoder=preprocessing.LabelEncoder()\n",
    "mh_data['class']=label_encoder.fit_transform(mh_data['class'])\n",
    "mh_data['class'].unique()"
   ]
  },
  {
   "cell_type": "code",
   "execution_count": 32,
   "metadata": {},
   "outputs": [],
   "source": [
    "# DIVIDE DATASET INTO TRAIN AND TEST\n",
    "\n",
    "X_train,X_test,Y_train,Y_test=train_test_split(X,Y,test_size=0.20)"
   ]
  },
  {
   "cell_type": "code",
   "execution_count": 33,
   "metadata": {},
   "outputs": [
    {
     "data": {
      "text/plain": [
       "SVC(kernel='linear')"
      ]
     },
     "execution_count": 33,
     "metadata": {},
     "output_type": "execute_result"
    }
   ],
   "source": [
    "#INITIALIZING AND FITTING THE SVM CLASSIFIER MODEL\n",
    "\n",
    "svcclassifier=SVC(kernel='linear')\n",
    "svcclassifier.fit(X_train,Y_train)"
   ]
  },
  {
   "cell_type": "code",
   "execution_count": 34,
   "metadata": {},
   "outputs": [
    {
     "name": "stdout",
     "output_type": "stream",
     "text": [
      "['non-suicide' 'non-suicide' 'non-suicide' 'suicide' 'suicide' 'suicide'\n",
      " 'non-suicide' 'non-suicide' 'suicide' 'non-suicide' 'suicide' 'suicide'\n",
      " 'non-suicide' 'non-suicide' 'non-suicide' 'suicide' 'suicide'\n",
      " 'non-suicide' 'suicide' 'non-suicide' 'non-suicide' 'suicide'\n",
      " 'non-suicide' 'suicide' 'non-suicide' 'non-suicide' 'non-suicide'\n",
      " 'suicide' 'suicide' 'non-suicide' 'suicide' 'non-suicide' 'non-suicide'\n",
      " 'non-suicide' 'non-suicide' 'non-suicide' 'non-suicide' 'suicide'\n",
      " 'non-suicide' 'suicide' 'suicide' 'suicide' 'non-suicide' 'non-suicide'\n",
      " 'non-suicide' 'non-suicide' 'non-suicide' 'non-suicide' 'non-suicide'\n",
      " 'suicide' 'suicide' 'non-suicide' 'suicide' 'suicide' 'non-suicide'\n",
      " 'suicide' 'non-suicide' 'suicide' 'suicide' 'suicide' 'non-suicide'\n",
      " 'non-suicide' 'non-suicide' 'non-suicide' 'non-suicide' 'non-suicide'\n",
      " 'suicide' 'non-suicide' 'suicide' 'suicide' 'suicide' 'non-suicide'\n",
      " 'suicide' 'non-suicide' 'non-suicide' 'non-suicide' 'non-suicide'\n",
      " 'non-suicide' 'non-suicide' 'suicide' 'non-suicide' 'non-suicide'\n",
      " 'non-suicide' 'suicide' 'non-suicide' 'suicide' 'suicide' 'suicide'\n",
      " 'suicide' 'non-suicide' 'suicide' 'suicide' 'non-suicide' 'suicide'\n",
      " 'non-suicide' 'suicide' 'suicide' 'suicide' 'non-suicide' 'suicide'\n",
      " 'suicide' 'non-suicide' 'suicide' 'non-suicide' 'non-suicide'\n",
      " 'non-suicide' 'suicide' 'non-suicide' 'non-suicide' 'non-suicide'\n",
      " 'non-suicide' 'non-suicide' 'non-suicide' 'non-suicide' 'suicide'\n",
      " 'non-suicide' 'non-suicide' 'non-suicide' 'non-suicide' 'suicide'\n",
      " 'suicide' 'suicide' 'suicide' 'non-suicide' 'non-suicide' 'non-suicide'\n",
      " 'non-suicide' 'suicide' 'non-suicide' 'non-suicide' 'non-suicide'\n",
      " 'suicide' 'suicide' 'suicide' 'non-suicide' 'non-suicide' 'suicide'\n",
      " 'non-suicide' 'non-suicide' 'suicide' 'non-suicide' 'non-suicide'\n",
      " 'non-suicide' 'non-suicide' 'non-suicide' 'suicide' 'suicide' 'suicide'\n",
      " 'non-suicide' 'suicide' 'non-suicide' 'suicide' 'suicide' 'suicide'\n",
      " 'non-suicide' 'non-suicide' 'non-suicide' 'suicide' 'non-suicide'\n",
      " 'non-suicide' 'non-suicide' 'non-suicide' 'non-suicide' 'non-suicide'\n",
      " 'non-suicide' 'suicide' 'non-suicide' 'non-suicide' 'suicide' 'suicide'\n",
      " 'suicide' 'suicide' 'suicide' 'suicide' 'non-suicide' 'non-suicide'\n",
      " 'suicide' 'suicide' 'suicide' 'suicide' 'suicide' 'non-suicide' 'suicide'\n",
      " 'non-suicide' 'suicide' 'non-suicide' 'non-suicide' 'non-suicide'\n",
      " 'non-suicide' 'suicide' 'suicide' 'non-suicide' 'suicide' 'non-suicide'\n",
      " 'suicide' 'suicide' 'non-suicide' 'non-suicide' 'non-suicide' 'suicide'\n",
      " 'suicide' 'suicide' 'non-suicide' 'suicide' 'suicide' 'suicide' 'suicide'\n",
      " 'suicide' 'suicide' 'non-suicide' 'suicide' 'non-suicide' 'non-suicide'\n",
      " 'suicide' 'non-suicide' 'non-suicide' 'non-suicide' 'non-suicide'\n",
      " 'non-suicide' 'non-suicide' 'non-suicide' 'suicide' 'suicide' 'suicide'\n",
      " 'non-suicide' 'suicide' 'non-suicide' 'non-suicide' 'non-suicide'\n",
      " 'suicide' 'suicide' 'suicide' 'suicide' 'suicide' 'non-suicide' 'suicide'\n",
      " 'suicide' 'non-suicide' 'suicide' 'suicide' 'suicide' 'suicide' 'suicide'\n",
      " 'non-suicide' 'suicide' 'non-suicide' 'suicide' 'non-suicide'\n",
      " 'non-suicide' 'non-suicide' 'suicide' 'suicide' 'suicide' 'suicide'\n",
      " 'suicide' 'suicide' 'suicide' 'suicide' 'non-suicide' 'non-suicide'\n",
      " 'non-suicide' 'suicide' 'suicide' 'suicide' 'non-suicide' 'non-suicide']\n"
     ]
    }
   ],
   "source": [
    "#COMING UP WITH PREDICTIONS\n",
    "y_pred=svcclassifier.predict(X_test)\n",
    "print(y_pred)"
   ]
  },
  {
   "cell_type": "code",
   "execution_count": 35,
   "metadata": {},
   "outputs": [
    {
     "name": "stdout",
     "output_type": "stream",
     "text": [
      "              precision    recall  f1-score   support\n",
      "\n",
      " non-suicide       0.91      0.93      0.92       138\n",
      "     suicide       0.93      0.91      0.92       128\n",
      "\n",
      "    accuracy                           0.92       266\n",
      "   macro avg       0.92      0.92      0.92       266\n",
      "weighted avg       0.92      0.92      0.92       266\n",
      "\n"
     ]
    }
   ],
   "source": [
    "#EVALUATING MODELS PERFORMANCE\n",
    "print(classification_report(Y_test,y_pred))"
   ]
  },
  {
   "cell_type": "code",
   "execution_count": null,
   "metadata": {},
   "outputs": [],
   "source": []
  }
 ],
 "metadata": {
  "kernelspec": {
   "display_name": "Python 3",
   "language": "python",
   "name": "python3"
  },
  "language_info": {
   "codemirror_mode": {
    "name": "ipython",
    "version": 3
   },
   "file_extension": ".py",
   "mimetype": "text/x-python",
   "name": "python",
   "nbconvert_exporter": "python",
   "pygments_lexer": "ipython3",
   "version": "3.8.5"
  }
 },
 "nbformat": 4,
 "nbformat_minor": 4
}
