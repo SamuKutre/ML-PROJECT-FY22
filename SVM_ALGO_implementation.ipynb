{
 "cells": [
  {
   "cell_type": "code",
   "execution_count": 1,
   "metadata": {},
   "outputs": [],
   "source": [
    "import numpy as np\n",
    "import pandas as pd\n",
    "import re\n",
    "import nltk\n",
    "import matplotlib.pyplot as plt\n",
    "from nltk.corpus import stopwords\n",
    "from nltk.stem.porter import PorterStemmer\n",
    "from sklearn.feature_extraction.text import TfidfVectorizer\n",
    "from sklearn.model_selection import train_test_split\n",
    "from sklearn.svm import SVC\n",
    "\n",
    "from sklearn.metrics import classification_report"
   ]
  },
  {
   "cell_type": "code",
   "execution_count": null,
   "metadata": {},
   "outputs": [],
   "source": [
    "#data preprocessing\n",
    "mh_data=pd.read_csv(r\"C:\\Users\\SUDHIR KUTRE\\Desktop\\FY'22 Project\\ML Datasets\\Samruddhi\\ML Dataset3\\SD2.csv\",encoding='unicode_escape')\n",
    "#printing first five lines\n",
    "print(mh_data.head())"
   ]
  },
  {
   "cell_type": "code",
   "execution_count": 4,
   "metadata": {},
   "outputs": [
    {
     "name": "stdout",
     "output_type": "stream",
     "text": [
      "Unnamed: 0    0\n",
      "text          0\n",
      "class         2\n",
      "dtype: int64\n"
     ]
    }
   ],
   "source": [
    "#checking for missing values\n",
    "print(mh_data.isnull().sum())"
   ]
  },
  {
   "cell_type": "code",
   "execution_count": 5,
   "metadata": {},
   "outputs": [
    {
     "name": "stdout",
     "output_type": "stream",
     "text": [
      "Unnamed: 0    0\n",
      "text          0\n",
      "class         0\n",
      "dtype: int64\n"
     ]
    }
   ],
   "source": [
    "#replacing missing values with null string\n",
    "mh_data=mh_data.fillna('')\n",
    "print(mh_data.isnull().sum())"
   ]
  },
  {
   "cell_type": "code",
   "execution_count": 6,
   "metadata": {},
   "outputs": [
    {
     "name": "stdout",
     "output_type": "stream",
     "text": [
      "0             suicide\n",
      "1         non-suicide\n",
      "2         non-suicide\n",
      "3             suicide\n",
      "4             suicide\n",
      "             ...     \n",
      "232070    non-suicide\n",
      "232071    non-suicide\n",
      "232072    non-suicide\n",
      "232073        suicide\n",
      "232074    non-suicide\n",
      "Name: class, Length: 232075, dtype: object\n"
     ]
    }
   ],
   "source": [
    "#separating feature and target\n",
    "X=mh_data.drop(columns='class',axis=1)\n",
    "Y=mh_data['class']\n",
    "print(Y)"
   ]
  },
  {
   "cell_type": "code",
   "execution_count": 7,
   "metadata": {},
   "outputs": [
    {
     "name": "stdout",
     "output_type": "stream",
     "text": [
      "0         Ex Wife Threatening SuicideRecently I left my ...\n",
      "1         Am I weird I don't get affected by compliments...\n",
      "2         Finally 2020 is almost over... So I can never ...\n",
      "3                 i need helpjust help me im crying so hard\n",
      "4         Iâm so lostHello, my name is Adam (16) and I...\n",
      "                                ...                        \n",
      "232070    If you don't like rock then your not going to ...\n",
      "232071    You how you can tell i have so many friends an...\n",
      "232072    pee probably tastes like salty teaðð¦â¼ï...\n",
      "232073    The usual stuff you find hereI'm not posting t...\n",
      "232074    I still haven't beaten the first boss in Hollo...\n",
      "Name: text, Length: 232075, dtype: object\n"
     ]
    }
   ],
   "source": [
    "\n",
    "\n",
    "print(mh_data['text'])\n",
    "\n"
   ]
  },
  {
   "cell_type": "code",
   "execution_count": 9,
   "metadata": {},
   "outputs": [
    {
     "name": "stdout",
     "output_type": "stream",
     "text": [
      "0         ex wife threatening suiciderecently i left my ...\n",
      "1         am i weird i don t get affected by compliments...\n",
      "2         finally is almost over so i can never hear has...\n",
      "3                 i need helpjust help me im crying so hard\n",
      "4         i m so losthello my name is adam and i ve been...\n",
      "                                ...                        \n",
      "232070    if you don t like rock then your not going to ...\n",
      "232071    you how you can tell i have so many friends an...\n",
      "232072    pee probably tastes like salty tea can someone...\n",
      "232073    the usual stuff you find herei m not posting t...\n",
      "232074    i still haven t beaten the first boss in hollo...\n",
      "Name: text, Length: 232075, dtype: object\n"
     ]
    }
   ],
   "source": [
    "#stemming\n",
    "port_stem=PorterStemmer()\n",
    "def stemming(content):\n",
    "    stemmed_content=re.sub('[^a-zA-Z]',' ',content)\n",
    "    stemmed_content=stemmed_content.lower()\n",
    "    stemmed_content=stemmed_content.split()\n",
    "    #stemmed_content=[port_stem.stem(word) for word in stemmed_content if not word in stopwords.words('english')]\n",
    "    stemmed_content=' '.join(stemmed_content)\n",
    "    return stemmed_content\n",
    "mh_data['text']=mh_data['text'].apply(stemming)\n",
    "print(mh_data['text'])"
   ]
  },
  {
   "cell_type": "code",
   "execution_count": 10,
   "metadata": {},
   "outputs": [
    {
     "name": "stdout",
     "output_type": "stream",
     "text": [
      "['ex wife threatening suiciderecently i left my wife for good because she has cheated on me twice and lied to me so much that i have decided to refuse to go back to her as of a few days ago she began threatening suicide i have tirelessly spent these paat few days talking her out of it and she keeps hesitating because she wants to believe i ll come back i know a lot of people will threaten this in order to get their way but what happens if she really does what do i do and how am i supposed to handle her death on my hands i still love my wife but i cannot deal with getting cheated on again and constantly feeling insecure i m worried today may be the day she does it and i hope so much it doesn t happen'\n",
      " 'am i weird i don t get affected by compliments if it s coming from someone i know irl but i feel really good when internet strangers do it'\n",
      " 'finally is almost over so i can never hear has been a bad year ever again i swear to fucking god it s so annoying'\n",
      " ...\n",
      " 'pee probably tastes like salty tea can someone who drank pee before confirm this'\n",
      " 'the usual stuff you find herei m not posting this for sympathy or pity because i know there are far worse situations then mine but i just want to get this stuff out there but it just seems in my life that there is no point to everything i have done in life i have ruined or quit i have isolated myself from everyone even my own family not even like telling them my family would help they d just consider me psychotic and they are probably right for all i know i m and have no sense on what the fuck the universe wants from me and thinking about it seems like the universe fucked up when they made me i know that s not how i m made just fuck off because i don t think it knows what it wants from me and all i get from people trying to help is how they went through rough patches and just got to tough it out i m done toughing it out life shouldn t be toughing it out i look around in my family and since i m the youngest i ve seen all the ridiculous shit that has happened to them all and it s fucked and i post this in this area because this isn t the first time i have felt like this i have tried to take my life before and couldn t do it what a bitch i know i mean seriously what cruel joke is being played on me i despise my life and just want to know what it would be like if i ended it and i can t even do that it s so fucked too because whenever i was around friends i would just put on this macho toughness guy like nothing hurt me and i just kept everything bottled up and there shouldn t be anything in my life that i should complain about because i had the option to make it better but what good would come of it i failed out of college because of this and i will probably never get back of track so that light so called light at the end of the tunnel is getting smaller by the day'\n",
      " 'i still haven t beaten the first boss in hollow knight i ve only fought it a few times and i always die really early in the fight i m terrible at this game y all']\n",
      "['suicide' 'non-suicide' 'non-suicide' ... 'non-suicide' 'suicide'\n",
      " 'non-suicide']\n"
     ]
    }
   ],
   "source": [
    "#X has features and Y has labes\n",
    "X=mh_data['text'].values\n",
    "Y=mh_data['class'].values\n",
    "print(X)\n",
    "print(Y)"
   ]
  },
  {
   "cell_type": "code",
   "execution_count": 11,
   "metadata": {},
   "outputs": [
    {
     "name": "stdout",
     "output_type": "stream",
     "text": [
      "  (0, 146719)\t0.09419852258644246\n",
      "  (0, 145785)\t0.035921142847613274\n",
      "  (0, 145421)\t0.04722916775855349\n",
      "  (0, 145316)\t0.29702455146869944\n",
      "  (0, 144513)\t0.07861607874562093\n",
      "  (0, 143514)\t0.053634554488021395\n",
      "  (0, 143075)\t0.07719534226018916\n",
      "  (0, 136097)\t0.09903634213299724\n",
      "  (0, 132836)\t0.06521560690806451\n",
      "  (0, 132764)\t0.16422505603927315\n",
      "  (0, 132417)\t0.18078042783482628\n",
      "  (0, 131427)\t0.24766301479598388\n",
      "  (0, 131423)\t0.13525530174339204\n",
      "  (0, 130883)\t0.03300277490434859\n",
      "  (0, 130484)\t0.06654244393861374\n",
      "  (0, 130072)\t0.0633037244359438\n",
      "  (0, 129930)\t0.02590854296786089\n",
      "  (0, 129833)\t0.031502607584415344\n",
      "  (0, 128066)\t0.07161551504701186\n",
      "  (0, 126602)\t0.08504703401438946\n",
      "  (0, 125983)\t0.22755606509541168\n",
      "  (0, 125843)\t0.05737388504111281\n",
      "  (0, 123652)\t0.0551053638696811\n",
      "  (0, 121898)\t0.0871226398992353\n",
      "  (0, 120149)\t0.06644177272609955\n",
      "  :\t:\n",
      "  (232074, 132109)\t0.16674600126361086\n",
      "  (232074, 130883)\t0.0813031641297983\n",
      "  (232074, 129930)\t0.1276526914712478\n",
      "  (232074, 129387)\t0.21703652798284284\n",
      "  (232074, 123652)\t0.1357534466757401\n",
      "  (232074, 107074)\t0.11394298911657544\n",
      "  (232074, 93072)\t0.11900723076176485\n",
      "  (232074, 73048)\t0.40193133091432104\n",
      "  (232074, 68726)\t0.06705284024877177\n",
      "  (232074, 65511)\t0.1536516115470713\n",
      "  (232074, 61249)\t0.3163962384597102\n",
      "  (232074, 58265)\t0.1752424172776878\n",
      "  (232074, 51949)\t0.220004894236776\n",
      "  (232074, 49545)\t0.29433544818194074\n",
      "  (232074, 47813)\t0.15286384858846994\n",
      "  (232074, 47028)\t0.220512752133246\n",
      "  (232074, 46704)\t0.15286163203406458\n",
      "  (232074, 38508)\t0.2364769226691174\n",
      "  (232074, 33357)\t0.13768984413411742\n",
      "  (232074, 15727)\t0.2905507657113655\n",
      "  (232074, 12105)\t0.30357024543490796\n",
      "  (232074, 8938)\t0.10197178846842637\n",
      "  (232074, 5415)\t0.06067269152344986\n",
      "  (232074, 4770)\t0.1408357137018422\n",
      "  (232074, 4082)\t0.0947215227256104\n"
     ]
    }
   ],
   "source": [
    "#converting textual data to numberical data\n",
    "vectorizer=TfidfVectorizer()\n",
    "vectorizer.fit(X)\n",
    "X=vectorizer.transform(X)\n",
    "print(X)"
   ]
  },
  {
   "cell_type": "code",
   "execution_count": 12,
   "metadata": {},
   "outputs": [
    {
     "data": {
      "text/plain": [
       "array([2, 1, 0])"
      ]
     },
     "execution_count": 12,
     "metadata": {},
     "output_type": "execute_result"
    }
   ],
   "source": [
    "#converting the labels values into numberics\n",
    "from sklearn import preprocessing\n",
    "label_encoder=preprocessing.LabelEncoder()\n",
    "mh_data['class']=label_encoder.fit_transform(mh_data['class'])\n",
    "mh_data['class'].unique()"
   ]
  },
  {
   "cell_type": "code",
   "execution_count": null,
   "metadata": {},
   "outputs": [],
   "source": [
    "#X_train,X_test,Y_train,Y_test=train_test_split(X,Y,test_size=0.20)\n",
    "\n",
    "#svcclassifier=SVC(kernel='linear')\n",
    "#svcclassifier.fit(X_train,Y_train)"
   ]
  },
  {
   "cell_type": "code",
   "execution_count": null,
   "metadata": {},
   "outputs": [],
   "source": []
  }
 ],
 "metadata": {
  "kernelspec": {
   "display_name": "Python 3",
   "language": "python",
   "name": "python3"
  },
  "language_info": {
   "codemirror_mode": {
    "name": "ipython",
    "version": 3
   },
   "file_extension": ".py",
   "mimetype": "text/x-python",
   "name": "python",
   "nbconvert_exporter": "python",
   "pygments_lexer": "ipython3",
   "version": "3.8.5"
  }
 },
 "nbformat": 4,
 "nbformat_minor": 4
}
